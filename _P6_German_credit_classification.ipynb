{
 "cells": [
  {
   "cell_type": "markdown",
   "metadata": {},
   "source": [
    "The German credit dataset is a standard imbalanced classification dataset that has thisproperty of differing costs to misclassification errors.  Models evaluated on this dataset can beevaluated using the Fbeta-measure that provides a way of both quantifying model performancegenerally, and captures the requirement that one type of misclassification error is more costlythan another. "
   ]
  },
  {
   "cell_type": "markdown",
   "metadata": {},
   "source": [
    "#### German Credit Dataset\n",
    "\n",
    "The German credit dataset describes financial and banking details for customers and thetask is to determine whether the customer is good or bad.  The assumption is that the taskinvolves predicting whether a customer will pay back a loan or credit.  The dataset includes1,000 examples and 20 input variables, 7 of which are numerical (integer) and 13 are categorical."
   ]
  },
  {
   "cell_type": "code",
   "execution_count": 20,
   "metadata": {},
   "outputs": [],
   "source": [
    "import pandas as pd\n",
    "import numpy as np\n",
    "import seaborn as sns\n",
    "from collections import Counter\n",
    "from matplotlib import pyplot\n",
    "from sklearn.preprocessing import LabelEncoder, OneHotEncoder\n",
    "from sklearn.compose import ColumnTransformer\n",
    "from sklearn.model_selection import RepeatedStratifiedKFold, cross_val_score\n",
    "from sklearn.metrics import fbeta_score \n",
    "from sklearn.metrics import make_scorer\n",
    "from sklearn.dummy import DummyClassifier\n",
    "\n",
    "from sklearn.pipeline import Pipeline\n",
    "from sklearn.preprocessing import MinMaxScaler\n",
    "from sklearn.linear_model import LogisticRegression\n",
    "from sklearn.discriminant_analysis import LinearDiscriminantAnalysis\n",
    "from sklearn.naive_bayes import GaussianNB\n",
    "from sklearn.gaussian_process import GaussianProcessClassifier\n",
    "from sklearn.svm import SVC\n",
    "from imblearn.pipeline import Pipeline\n",
    "from imblearn.combine import SMOTEENN\n",
    "from imblearn.under_sampling import EditedNearestNeighbours, TomekLinks, RepeatedEditedNearestNeighbours, NeighbourhoodCleaningRule, OneSidedSelection\n",
    "\n",
    "\n",
    "sns.set()"
   ]
  },
  {
   "cell_type": "code",
   "execution_count": 13,
   "metadata": {},
   "outputs": [],
   "source": [
    "#url = \"https://raw.githubusercontent.com/jbrownlee/Datasets/master/german.csv\"\n",
    "path = \"data/german_credit.csv\"\n",
    "data = pd.read_csv(path, index_col=0)"
   ]
  },
  {
   "cell_type": "markdown",
   "metadata": {},
   "source": [
    "#### Explore the dataset \n",
    "\n"
   ]
  },
  {
   "cell_type": "code",
   "execution_count": 14,
   "metadata": {},
   "outputs": [
    {
     "name": "stdout",
     "output_type": "stream",
     "text": [
      "Class=1, Count=700, Percentage=70.0%\n",
      "Class=2, Count=300, Percentage=30.0%\n"
     ]
    }
   ],
   "source": [
    "for idx, val in data.iloc[:,-1].value_counts().iteritems():\n",
    "    print(\"Class={}, Count={}, Percentage={}%\".format(idx, val, (val/ data.shape[0]) * 100))"
   ]
  },
  {
   "cell_type": "code",
   "execution_count": 15,
   "metadata": {},
   "outputs": [
    {
     "data": {
      "image/png": "[encoded data removed]",
      "text/plain": [
       "<Figure size 432x288 with 9 Axes>"
      ]
     },
     "metadata": {},
     "output_type": "display_data"
    }
   ],
   "source": [
    "# distribution fro numerical types\n",
    "num_cols = data.select_dtypes(include = ['int64', 'float64']).columns\n",
    "subset = data[num_cols]\n",
    "ax = subset.hist();\n",
    "for axis in ax.flatten():\n",
    "    axis.set_xticklabels([])\n",
    "    axis.set_yticklabels([])    "
   ]
  },
  {
   "cell_type": "markdown",
   "metadata": {},
   "source": [
    "#### Model Test and Baseline Result\n",
    "\n",
    "We will predict class labels of whether a customer is good or not.  Therefore, we need ameasure that is appropriate for evaluating the predicted class labels.  The focus of the task is onthe positive class (bad customers).  Precision and recall are a good place to start.  Maximizing precision will minimize the false positives and maximizing recall will minimize the false negatives in the predictions made by a model.\n",
    "\n",
    "In this particular case is that false negatives are more damaging thanfalse positives.  Remember that false negatives on this dataset are cases of a bad customer being marked as a good customer and being given a loan.\n",
    "We want to favor models that arebetter are minimizing false negatives over false positives.  This can be achieved by using a versionof the F-measure that calculates a weighted harmonic mean of precision and recall but favorshigher recall scores over precision scores.\n",
    "\n",
    " This is called the Fbeta-measure, a generalization ofF-measure, wherebetais a parameter that defines the weighting of the two scores.  Abetavalueof 2 will weight more attention on recall than precision and is referred to as the F2-measure.\n",
    " \n",
    "   The F2-measure from this prediction provides a baseline in model performanceon this problem by which all other models can be compared.  This can be achieved using theDummyClassifierclass from the scikit-learn library and setting thestrategyargument to‘constant’and theconstantargument to1for the minority class.\n"
   ]
  },
  {
   "cell_type": "code",
   "execution_count": 16,
   "metadata": {},
   "outputs": [
    {
     "name": "stdout",
     "output_type": "stream",
     "text": [
      "(1000, 20) (1000,) Counter({0: 700, 1: 300})\n",
      "Mean F2: 0.682 +/- (0.000)\n"
     ]
    }
   ],
   "source": [
    "def load_dataset(full_path):\n",
    "    df = pd.read_csv(full_path, index_col=0)\n",
    "    X, y =df.iloc[:,:-1], df.iloc[:,-1]\n",
    "    cat_ix = X.select_dtypes(include=['object', 'bool']).columns\n",
    "    # one hot encode cat features only\n",
    "    ct = ColumnTransformer([('o', OneHotEncoder(), cat_ix)], remainder='passthrough')\n",
    "    X = ct.fit_transform(X)\n",
    "    y = LabelEncoder().fit_transform(y) #0, 1 encoding\n",
    "    return X, y\n",
    "\n",
    "def f2_measure(y_true, y_pred):\n",
    "    return fbeta_score(y_true, y_pred, beta=2)\n",
    "\n",
    "def evaluate_model(X, y, model):\n",
    "    cv = RepeatedStratifiedKFold(n_splits=10, n_repeats=3, random_state=1)\n",
    "    metric = make_scorer(f2_measure)\n",
    "    scores = cross_val_score(model, X, y, scoring=metric, cv=cv, n_jobs=-1)\n",
    "    return scores\n",
    "\n",
    "X1, y1 = load_dataset(full_path=path)\n",
    "print(X.shape, y.shape, Counter(y))\n",
    "model = DummyClassifier(strategy='constant', constant=1)\n",
    "scores = evaluate_model(X=X, y=y, model=model)\n",
    "print(\"Mean F2: {:.3f} +/- ({:.3f})\".format(np.mean(scores), np.std(scores)))"
   ]
  },
  {
   "cell_type": "markdown",
   "metadata": {},
   "source": [
    "We can see that we havethe correct number of rows loaded, and through the one hot encoding of the categorical inputvariables, we have increased the number of input variables from 20 to 61.  That suggests that the 13 categorical variables were encoded into a total of 54 columns.\n",
    "\n",
    "We can see that the class labels have the correct mapping to integers with 0 forthe majority class and 1 for the minority class, customary for imbalanced binary classificationdataset.\n",
    "\n",
    "Next, the average of the F2-measure scores is reported.  In this case, we can see thatthe baseline algorithm achieves an F2-measure of about 0.682.  This score provides a lower limiton model skill; any model that achieves an average F2-measure above about 0.682 has skill,whereas models that achieve a score below this value do not have skill on this dataset."
   ]
  },
  {
   "cell_type": "markdown",
   "metadata": {},
   "source": [
    "#### Evaluate Models\n",
    "\n",
    "It can be a good idea to spot-check a suite of different linear and nonlinear algorithms on adataset to quickly flush out what works well and deserves further attention, "
   ]
  },
  {
   "cell_type": "code",
   "execution_count": 17,
   "metadata": {},
   "outputs": [],
   "source": [
    "def get_models():\n",
    "    models = {}\n",
    "    models['LR'] = LogisticRegression(solver='liblinear')\n",
    "    models['LDA'] = LinearDiscriminantAnalysis()\n",
    "    models['GNB'] = GaussianNB()\n",
    "    models['SVM'] = SVC(gamma='scale')\n",
    "    models['GPC'] = GaussianProcessClassifier()\n",
    "    return models\n",
    "\n",
    "def load_dataset(full_path):\n",
    "    df = pd.read_csv(full_path, index_col=0)\n",
    "    X, y =df.iloc[:,:-1], df.iloc[:,-1]\n",
    "    cat_ix = X.select_dtypes(include=['object', 'bool']).columns.astype('int')# csv load\n",
    "    num_ix = X.select_dtypes(include=['int64', 'float64']).columns.astype('int')\n",
    "    y = LabelEncoder().fit_transform(y) #0, 1 encoding\n",
    "    return X.values, y, cat_ix, num_ix # idx needs to be int as np arrays are passed\n"
   ]
  },
  {
   "cell_type": "markdown",
   "metadata": {},
   "source": [
    "We will one hot encode the categorical input variables as we did in the previous section, and in this case, we will normalize the numerical input variables.  This is bestperformed using the `MinMaxScaler` within each fold of the cross-validation evaluation process.An easy way to implement this is to use a Pipeline where the first step is a `ColumnTransformer` that applies a `OneHotEncoder` to just the categorical variables, and a `MinMaxScaler` to just thenumerical input variables."
   ]
  },
  {
   "cell_type": "code",
   "execution_count": 18,
   "metadata": {},
   "outputs": [
    {
     "name": "stdout",
     "output_type": "stream",
     "text": [
      "LR, 0.497 (0.072)\n",
      "LDA, 0.519 (0.072)\n",
      "GNB, 0.639 (0.049)\n",
      "SVM, 0.436 (0.077)\n",
      "GPC, 0.219 (0.061)\n"
     ]
    }
   ],
   "source": [
    "X, y, cat_ix, num_ix = load_dataset(full_path=path)\n",
    "results = {}\n",
    "for name, model in get_models().items():\n",
    "    ct = ColumnTransformer(transformers=[\n",
    "        ('c', OneHotEncoder(), cat_ix),\n",
    "        ('n', MinMaxScaler(), num_ix)\n",
    "    ])\n",
    "    pipeline = Pipeline(steps = [\n",
    "        ('t', ct),\n",
    "        ('m',model)\n",
    "    ])\n",
    "    scores = evaluate_model(X, y, pipeline)\n",
    "    results[name] = scores\n",
    "    print(\"{}, {:.3f} ({:.3f})\".format(name, np.mean(results[name]), np.std(results[name])))"
   ]
  },
  {
   "cell_type": "markdown",
   "metadata": {},
   "source": [
    "In this case, we can see that none of the tested models have an F2-measure above the defaultof predicting the majority class in all cases (0.682).  **None of the models are skillful.  This is surprising, although suggests that perhaps the decision boundary between the two classes is noisy.**"
   ]
  },
  {
   "cell_type": "code",
   "execution_count": 19,
   "metadata": {},
   "outputs": [
    {
     "data": {
      "image/png": "[encoded data removed]",
      "text/plain": [
       "<Figure size 864x576 with 1 Axes>"
      ]
     },
     "metadata": {},
     "output_type": "display_data"
    }
   ],
   "source": [
    "pyplot.figure(figsize=(12,8))\n",
    "pyplot.boxplot(results.values(), \n",
    "               labels=results.keys(), showmeans=True);"
   ]
  },
  {
   "cell_type": "markdown",
   "metadata": {},
   "source": [
    "### Evaluate Undersampling\n",
    "\n",
    "Undersampling can help to remove examples from the majority class along the decision boundarythat make the problem challenging for classification algorithms. In this experiment we will testthe following undersampling algorithms:\n",
    "\n",
    "- Tomek links\n",
    "- Edited Neareast Neighbors\n",
    "- repeated Edited Neareast Neighbors\n",
    "- One Side Selection\n",
    "- Neighborhood Cleaning Rule\n",
    "\n",
    "The Tomek Links and ENN methods select examples from the majority class to delete,whereas OSS and NCR both select examples to keep and examples to delete.  We will use thecost-sensitive version of the logistic regression algorithm to test each undersampling methodin an effort to further lift model performance. \n"
   ]
  },
  {
   "cell_type": "code",
   "execution_count": 25,
   "metadata": {},
   "outputs": [
    {
     "name": "stdout",
     "output_type": "stream",
     "text": [
      ">TL 0.669 (0.057)\n",
      ">ENN 0.706 (0.048)\n",
      ">RENN 0.714 (0.041)\n",
      ">OSS 0.673 (0.056)\n",
      ">NCR 0.693 (0.052)\n"
     ]
    },
    {
     "data": {
      "image/png": "[encoded data removed]",
      "text/plain": [
       "<Figure size 576x432 with 1 Axes>"
      ]
     },
     "metadata": {},
     "output_type": "display_data"
    }
   ],
   "source": [
    "def get_models():\n",
    "    models = {}\n",
    "    models['TL'] = TomekLinks()\n",
    "    models['ENN'] = EditedNearestNeighbours()\n",
    "    models['RENN'] =RepeatedEditedNearestNeighbours()\n",
    "    models['OSS'] = OneSidedSelection()\n",
    "    models['NCR'] = NeighbourhoodCleaningRule()\n",
    "    return models\n",
    "\n",
    "\n",
    "results = {}\n",
    "for name, under in get_models().items():\n",
    "    model = LogisticRegression(solver='liblinear', class_weight='balanced')\n",
    "    ct = ColumnTransformer([\n",
    "    ('c', OneHotEncoder(), cat_ix), \n",
    "    ('n', MinMaxScaler(), num_ix)\n",
    "     ])\n",
    "    pipeline = Pipeline([\n",
    "        ('t', ct),\n",
    "        ('us', under),\n",
    "        ('m', model)\n",
    "    ])\n",
    "    scores = evaluate_model(X, y, pipeline)\n",
    "    results[name] = scores\n",
    "    print(\">%s %.3f (%.3f)\" % (name, np.mean(scores), np.std(scores)))\n",
    "\n",
    "pyplot.figure(figsize=(8, 6))\n",
    "pyplot.boxplot(results.values(), \n",
    "               labels=results.keys(), showmeans=True);"
   ]
  },
  {
   "cell_type": "markdown",
   "metadata": {},
   "source": [
    "Box and whisker plots are created for each evaluated undersampling technique, showingthat they generally have the same spread.  It is encouraging to see that for the well performingmethods, the boxes spread up around 0.8, and the mean and median for all three methods arearound 0.7.  This highlights that the distributions are skewing high and are let down on occasionby a few bad evaluations.\n",
    "\n",
    "###  Make Prediction on New Data\n",
    "\n",
    "Given the variance in results, a selection of any of the undersampling methods is probablysufficient.  In this case, we will select logistic regression with Repeated ENN. This model had anF2-measure of about about 0.716 on our test harness.  We will use this as our final model anduse it to make predictions on new data.  "
   ]
  },
  {
   "cell_type": "code",
   "execution_count": 48,
   "metadata": {},
   "outputs": [],
   "source": [
    "model = LogisticRegression(solver='liblinear', class_weight= 'balanced')\n",
    "ct = ColumnTransformer([\n",
    "    ('c', OneHotEncoder(), cat_ix), \n",
    "    ('n', MinMaxScaler(), num_ix)\n",
    "     ])\n",
    "pipeline = Pipeline([\n",
    "        ('t', ct),\n",
    "        ('us', RepeatedEditedNearestNeighbours()),\n",
    "        ('m', model)\n",
    "    ])\n",
    "    \n",
    "pipeline.fit(X,y)\n",
    "\n",
    "bad_customers = data.loc[data['20'] == 2].drop(columns='20').sample(20).values\n",
    "good_customers = data[data['20'] == 1].drop(columns='20').sample(20).values"
   ]
  },
  {
   "cell_type": "code",
   "execution_count": 49,
   "metadata": {},
   "outputs": [
    {
     "name": "stdout",
     "output_type": "stream",
     "text": [
      ">Predicted=0 (expected 0)\n",
      ">Predicted=1 (expected 1)\n",
      ">Predicted=0 (expected 0)\n",
      ">Predicted=1 (expected 1)\n",
      ">Predicted=0 (expected 0)\n",
      ">Predicted=1 (expected 1)\n",
      ">Predicted=0 (expected 0)\n",
      ">Predicted=1 (expected 1)\n",
      ">Predicted=1 (expected 0)\n",
      ">Predicted=1 (expected 1)\n",
      ">Predicted=1 (expected 0)\n",
      ">Predicted=1 (expected 1)\n",
      ">Predicted=1 (expected 0)\n",
      ">Predicted=1 (expected 1)\n",
      ">Predicted=0 (expected 0)\n",
      ">Predicted=1 (expected 1)\n",
      ">Predicted=1 (expected 0)\n",
      ">Predicted=0 (expected 1)\n",
      ">Predicted=0 (expected 0)\n",
      ">Predicted=1 (expected 1)\n",
      ">Predicted=0 (expected 0)\n",
      ">Predicted=1 (expected 1)\n",
      ">Predicted=1 (expected 0)\n",
      ">Predicted=1 (expected 1)\n",
      ">Predicted=0 (expected 0)\n",
      ">Predicted=1 (expected 1)\n",
      ">Predicted=1 (expected 0)\n",
      ">Predicted=1 (expected 1)\n",
      ">Predicted=1 (expected 0)\n",
      ">Predicted=1 (expected 1)\n",
      ">Predicted=0 (expected 0)\n",
      ">Predicted=1 (expected 1)\n",
      ">Predicted=1 (expected 0)\n",
      ">Predicted=1 (expected 1)\n",
      ">Predicted=1 (expected 0)\n",
      ">Predicted=1 (expected 1)\n",
      ">Predicted=0 (expected 0)\n",
      ">Predicted=1 (expected 1)\n",
      ">Predicted=1 (expected 0)\n",
      ">Predicted=1 (expected 1)\n"
     ]
    }
   ],
   "source": [
    "for good_row, bad_row in zip(good_customers,bad_customers):\n",
    "    yhat = pipeline.predict([good_row])\n",
    "    label = yhat[0]\n",
    "    print(\">Predicted=%d (expected 0)\" % (label))\n",
    "    yhat = pipeline.predict([bad_row])\n",
    "    label = yhat[0]\n",
    "    print(\">Predicted=%d (expected 1)\" % (label))"
   ]
  }
 ],
 "metadata": {
  "kernelspec": {
   "display_name": "Python 3",
   "language": "python",
   "name": "python3"
  },
  "language_info": {
   "codemirror_mode": {
    "name": "ipython",
    "version": 3
   },
   "file_extension": ".py",
   "mimetype": "text/x-python",
   "name": "python",
   "nbconvert_exporter": "python",
   "pygments_lexer": "ipython3",
   "version": "3.8.5"
  }
 },
 "nbformat": 4,
 "nbformat_minor": 4
}
