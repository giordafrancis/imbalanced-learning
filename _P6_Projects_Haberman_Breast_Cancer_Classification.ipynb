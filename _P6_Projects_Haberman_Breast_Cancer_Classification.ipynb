{
 "cells": [
  {
   "cell_type": "markdown",
   "metadata": {},
   "source": [
    "### Introduction\n",
    "\n",
    "Chapter VII -> Project Haberman Breast Cancer Classification"
   ]
  },
  {
   "cell_type": "code",
   "execution_count": 1,
   "metadata": {},
   "outputs": [],
   "source": [
    "import pandas as pd\n",
    "import numpy as np\n",
    "import seaborn as sns\n",
    "\n",
    "sns.set()"
   ]
  },
  {
   "cell_type": "markdown",
   "metadata": {},
   "source": [
    "### Data exploration"
   ]
  },
  {
   "cell_type": "code",
   "execution_count": 2,
   "metadata": {},
   "outputs": [],
   "source": [
    "path = \"https://raw.githubusercontent.com/jbrownlee/Datasets/master/haberman.csv\"\n",
    "df = pd.read_csv(path, names = ['age','year','nodes','class'])"
   ]
  },
  {
   "cell_type": "code",
   "execution_count": 3,
   "metadata": {},
   "outputs": [
    {
     "data": {
      "text/html": [
       "<div>\n",
       "<style scoped>\n",
       "    .dataframe tbody tr th:only-of-type {\n",
       "        vertical-align: middle;\n",
       "    }\n",
       "\n",
       "    .dataframe tbody tr th {\n",
       "        vertical-align: top;\n",
       "    }\n",
       "\n",
       "    .dataframe thead th {\n",
       "        text-align: right;\n",
       "    }\n",
       "</style>\n",
       "<table border=\"1\" class=\"dataframe\">\n",
       "  <thead>\n",
       "    <tr style=\"text-align: right;\">\n",
       "      <th></th>\n",
       "      <th>count</th>\n",
       "      <th>mean</th>\n",
       "      <th>std</th>\n",
       "      <th>min</th>\n",
       "      <th>25%</th>\n",
       "      <th>50%</th>\n",
       "      <th>75%</th>\n",
       "      <th>max</th>\n",
       "    </tr>\n",
       "  </thead>\n",
       "  <tbody>\n",
       "    <tr>\n",
       "      <th>age</th>\n",
       "      <td>306.0</td>\n",
       "      <td>52.457516</td>\n",
       "      <td>10.803452</td>\n",
       "      <td>30.0</td>\n",
       "      <td>44.0</td>\n",
       "      <td>52.0</td>\n",
       "      <td>60.75</td>\n",
       "      <td>83.0</td>\n",
       "    </tr>\n",
       "    <tr>\n",
       "      <th>year</th>\n",
       "      <td>306.0</td>\n",
       "      <td>62.852941</td>\n",
       "      <td>3.249405</td>\n",
       "      <td>58.0</td>\n",
       "      <td>60.0</td>\n",
       "      <td>63.0</td>\n",
       "      <td>65.75</td>\n",
       "      <td>69.0</td>\n",
       "    </tr>\n",
       "    <tr>\n",
       "      <th>nodes</th>\n",
       "      <td>306.0</td>\n",
       "      <td>4.026144</td>\n",
       "      <td>7.189654</td>\n",
       "      <td>0.0</td>\n",
       "      <td>0.0</td>\n",
       "      <td>1.0</td>\n",
       "      <td>4.00</td>\n",
       "      <td>52.0</td>\n",
       "    </tr>\n",
       "    <tr>\n",
       "      <th>class</th>\n",
       "      <td>306.0</td>\n",
       "      <td>1.264706</td>\n",
       "      <td>0.441899</td>\n",
       "      <td>1.0</td>\n",
       "      <td>1.0</td>\n",
       "      <td>1.0</td>\n",
       "      <td>2.00</td>\n",
       "      <td>2.0</td>\n",
       "    </tr>\n",
       "  </tbody>\n",
       "</table>\n",
       "</div>"
      ],
      "text/plain": [
       "       count       mean        std   min   25%   50%    75%   max\n",
       "age    306.0  52.457516  10.803452  30.0  44.0  52.0  60.75  83.0\n",
       "year   306.0  62.852941   3.249405  58.0  60.0  63.0  65.75  69.0\n",
       "nodes  306.0   4.026144   7.189654   0.0   0.0   1.0   4.00  52.0\n",
       "class  306.0   1.264706   0.441899   1.0   1.0   1.0   2.00   2.0"
      ]
     },
     "execution_count": 3,
     "metadata": {},
     "output_type": "execute_result"
    }
   ],
   "source": [
    "df.describe().T"
   ]
  },
  {
   "cell_type": "code",
   "execution_count": 4,
   "metadata": {},
   "outputs": [
    {
     "data": {
      "image/png": "[encoded data removed]",
      "text/plain": [
       "<Figure size 432x288 with 4 Axes>"
      ]
     },
     "metadata": {},
     "output_type": "display_data"
    }
   ],
   "source": [
    "df.hist();"
   ]
  },
  {
   "cell_type": "code",
   "execution_count": 5,
   "metadata": {},
   "outputs": [
    {
     "data": {
      "text/html": [
       "<div>\n",
       "<style scoped>\n",
       "    .dataframe tbody tr th:only-of-type {\n",
       "        vertical-align: middle;\n",
       "    }\n",
       "\n",
       "    .dataframe tbody tr th {\n",
       "        vertical-align: top;\n",
       "    }\n",
       "\n",
       "    .dataframe thead th {\n",
       "        text-align: right;\n",
       "    }\n",
       "</style>\n",
       "<table border=\"1\" class=\"dataframe\">\n",
       "  <thead>\n",
       "    <tr style=\"text-align: right;\">\n",
       "      <th></th>\n",
       "      <th>class_count</th>\n",
       "      <th>class_pct</th>\n",
       "    </tr>\n",
       "  </thead>\n",
       "  <tbody>\n",
       "    <tr>\n",
       "      <th>1</th>\n",
       "      <td>225</td>\n",
       "      <td>73.529412</td>\n",
       "    </tr>\n",
       "    <tr>\n",
       "      <th>2</th>\n",
       "      <td>81</td>\n",
       "      <td>26.470588</td>\n",
       "    </tr>\n",
       "  </tbody>\n",
       "</table>\n",
       "</div>"
      ],
      "text/plain": [
       "   class_count  class_pct\n",
       "1          225  73.529412\n",
       "2           81  26.470588"
      ]
     },
     "execution_count": 5,
     "metadata": {},
     "output_type": "execute_result"
    }
   ],
   "source": [
    "counter = df['class'].value_counts\n",
    "pd.concat([\n",
    "    counter() , counter(normalize=True) * 100\n",
    "], axis=1, keys = ['class_count', 'class_pct']\n",
    ")"
   ]
  },
  {
   "cell_type": "markdown",
   "metadata": {},
   "source": [
    "### Baseline\n",
    "\n",
    "\n",
    "Metric needed\n",
    "Given that we are interested in predicting a probability of survival, we need a performancemetric that evaluates the skill of a model based on the predicted probabilities.  In this case,we  will  use  the  Brier  score  that  calculates  the  mean  squared  error  between  the  predictedprobabilities and the expected probabilities .\n",
    "This can be calculated using the brier scoreloss() scikit-learn function.\n",
    "\n",
    "A reference prediction for a problem in which we are predicting probabilities is the probability of the positive class label in the dataset.  In this case,  the positive classlabel represents non-survival and occurs about 26% in the dataset.  Therefore, predicting about 0.26471 represents the worst-case or baseline performance for a predictive model on this dataset.\n",
    "\n",
    "Any model that has a Brier score better than this has some skill, where as any model thatas a Brier score lower than this has no skill.  The Brier Skill Score captures this importantrelationship.  We can calculate the Brier score for this default prediction strategy automaticallyfor each training set in thek-fold cross-validation process, then use it as a point of comparisonfor a given model."
   ]
  },
  {
   "cell_type": "code",
   "execution_count": 7,
   "metadata": {},
   "outputs": [],
   "source": [
    "from sklearn.metrics import brier_score_loss\n",
    "y_true = (df['class'].values == 2).astype(int)\n",
    "ref_probs = [y_true.mean() for _ in range(y_true.shape[0])]\n",
    "bs_ref = brier_score_loss(y_true, ref_probs)"
   ]
  },
  {
   "cell_type": "code",
   "execution_count": 8,
   "metadata": {},
   "outputs": [],
   "source": [
    "# calculate reference brier score\n",
    "\n",
    "from collections import Counter\n",
    "from sklearn.preprocessing import LabelEncoder\n",
    "from sklearn.model_selection import cross_val_score\n",
    "from sklearn.model_selection import RepeatedStratifiedKFold\n",
    "from sklearn.metrics import brier_score_loss\n",
    "from sklearn.metrics import make_scorer\n",
    "from sklearn.dummy import DummyClassifier\n",
    "\n",
    "def load_dataset(path):\n",
    "    data = pd.read_csv(path, names = ['age','year','nodes','class']).values\n",
    "    X, y = data[:, :-1], data[: ,-1]\n",
    "    y = LabelEncoder().fit_transform(y)\n",
    "    return X, y \n",
    "\n",
    "\n",
    "# calculate brier skill score (BSS)\n",
    "def brier_skill_score(y_true, y_prob):\n",
    "\t# calculate reference brier score\n",
    "\tref_probs = [0.26471 for _ in range(len(y_true))]\n",
    "\tbs_ref = brier_score_loss(y_true=y_true,y_prob= ref_probs)\n",
    "\t# calculate model brier score\n",
    "\tbs_model = brier_score_loss(y_true= y_true, y_prob=y_prob)\n",
    "\t# calculate skill score\n",
    "\treturn 1.0 - (bs_model / bs_ref)\n",
    "\n",
    "\n",
    "\n",
    "def evaluate_model(X, y, model):\n",
    "    cv = RepeatedStratifiedKFold(n_splits=10, n_repeats=3, random_state=1)\n",
    "    metric = make_scorer(score_func=brier_skill_score, needs_proba=True)\n",
    "    scores = cross_val_score(estimator=model, X=X, y=y, scoring=metric, cv=cv, n_jobs=-1)\n",
    "    return scores\n",
    "\n",
    "# evaluate a model\n",
    "def evaluate_model(X, y, model):\n",
    "\t# define evaluation procedure\n",
    "\tcv = RepeatedStratifiedKFold(n_splits=10, n_repeats=3, random_state=1)\n",
    "\t# define the model evaluation metric\n",
    "\tmetric = make_scorer(brier_skill_score, needs_proba=True)\n",
    "\t# evaluate model\n",
    "\tscores = cross_val_score(model, X, y, scoring=metric, cv=cv, n_jobs=-1)\n",
    "\treturn scores"
   ]
  },
  {
   "cell_type": "code",
   "execution_count": 9,
   "metadata": {},
   "outputs": [
    {
     "name": "stdout",
     "output_type": "stream",
     "text": [
      "(306, 3) (306,) Counter({0: 225, 1: 81})\n",
      "Mean BSS for baseline -0.000 and STD 0.000\n"
     ]
    }
   ],
   "source": [
    "X, y = load_dataset(path)\n",
    "print(X.shape, y.shape, Counter(y))\n",
    "model = DummyClassifier(strategy='prior')\n",
    "scores = evaluate_model(X, y, model)\n",
    "print(f\"Mean BSS for baseline {np.mean(scores):.3f} and STD {np.std(scores):.3f}\")"
   ]
  },
  {
   "cell_type": "markdown",
   "metadata": {},
   "source": [
    "#### Evaluate Probabilistic Models\n",
    "\n",
    "We will evaluate a suite of models that are known to be effective at predicting probabilities. Specifically, these are models that are fit under a probabilistic framework and explicitly predict acalibrated probability for each example.  A such, this makes them well-suited to this dataset, evenwith the class imbalance.  We will evaluate the following six probabilistic models implementedwith the scikit-learn library.\n",
    "\n",
    "We are interested in directly comparing the results from each of these algorithms.  We willcompare each algorithm based on the mean score, as well as based on their distribution of scores"
   ]
  },
  {
   "cell_type": "code",
   "execution_count": 10,
   "metadata": {},
   "outputs": [],
   "source": [
    "from matplotlib import pyplot\n",
    "from sklearn.preprocessing import LabelEncoder\n",
    "from sklearn.model_selection import cross_val_score\n",
    "from sklearn.model_selection import RepeatedStratifiedKFold\n",
    "from sklearn.metrics import brier_score_loss\n",
    "from sklearn.linear_model import LogisticRegression\n",
    "from sklearn.discriminant_analysis import LinearDiscriminantAnalysis, QuadraticDiscriminantAnalysis\n",
    "from sklearn.naive_bayes import GaussianNB, MultinomialNB\n",
    "from sklearn.gaussian_process import GaussianProcessClassifier\n",
    "\n",
    "\n",
    "def get_models():\n",
    "    models = {}\n",
    "    models['LR'] = LogisticRegression(solver='lbfgs')\n",
    "    models['LDA'] = LinearDiscriminantAnalysis()\n",
    "    models['QDA'] = QuadraticDiscriminantAnalysis()\n",
    "    models['GNB'] = GaussianNB()\n",
    "    models['MNB'] = MultinomialNB()\n",
    "    models['GPC'] = GaussianProcessClassifier()\n",
    "    return models"
   ]
  },
  {
   "cell_type": "code",
   "execution_count": 11,
   "metadata": {},
   "outputs": [
    {
     "name": "stdout",
     "output_type": "stream",
     "text": [
      "LR-> 0.060, (0.143)\n",
      "LDA-> 0.064, (0.154)\n",
      "QDA-> 0.027, (0.221)\n",
      "GNB-> 0.012, (0.212)\n",
      "MNB-> -0.211, (0.369)\n",
      "GPC-> -0.142, (0.041)\n"
     ]
    }
   ],
   "source": [
    "X, y = load_dataset(path=path)\n",
    "\n",
    "models = get_models()\n",
    "results = {}\n",
    "for name, model  in models.items():\n",
    "    scores = evaluate_model(X, y, model)\n",
    "    results[name] = scores\n",
    "    print(f\"{name}-> {np.mean(scores):.3f}, ({np.std(scores):.3f})\")"
   ]
  },
  {
   "cell_type": "code",
   "execution_count": 12,
   "metadata": {},
   "outputs": [
    {
     "data": {
      "image/png": "[encoded data removed]",
      "text/plain": [
       "<Figure size 864x576 with 1 Axes>"
      ]
     },
     "metadata": {},
     "output_type": "display_data"
    }
   ],
   "source": [
    "pyplot.figure(figsize=(12,8))\n",
    "pyplot.boxplot(results.values(), \n",
    "               labels= results.keys(), showmeans=True);"
   ]
  },
  {
   "cell_type": "markdown",
   "metadata": {},
   "source": [
    "####  Model Evaluation With Scaled Inputs\n",
    "\n",
    "Algorithms like the LR and LDA are sensitive to thedistribution of the data and assume a Gaussian distribution for the input variables, which wedon’t have in all cases.Nevertheless, we can test the algorithms with standardization, where each variable is shiftedto a zero mean and unit standard deviation.  We will drop the MNB algorithm as it does notsupport negative input values.  We can achieve this by wrapping each model in aPipelinewhere the first step is aStandardScaler, which will correctly be fit on the training dataset andapplied to the test dataset within eachk-fold cross-validation evaluation, preventing any dataleakage."
   ]
  },
  {
   "cell_type": "code",
   "execution_count": 13,
   "metadata": {},
   "outputs": [
    {
     "name": "stdout",
     "output_type": "stream",
     "text": [
      "LR-> 0.062, (0.140)\n",
      "LDA-> 0.064, (0.154)\n",
      "QDA-> 0.027, (0.221)\n",
      "GNB-> 0.012, (0.212)\n",
      "GPC-> 0.097, (0.133)\n"
     ]
    }
   ],
   "source": [
    "from sklearn.pipeline import Pipeline\n",
    "from sklearn.preprocessing import StandardScaler\n",
    "results = {}\n",
    "for name, model  in models.items():\n",
    "    if name == 'MNB':\n",
    "        continue # dropped\n",
    "    pipeline = Pipeline(steps=[('t', StandardScaler()), (name, model)])\n",
    "    scores = evaluate_model(X, y, pipeline)\n",
    "    results[name] = scores\n",
    "    print(f\"{name}-> {np.mean(scores):.3f}, ({np.std(scores):.3f})\")"
   ]
  },
  {
   "cell_type": "code",
   "execution_count": 14,
   "metadata": {},
   "outputs": [
    {
     "data": {
      "image/png": "[encoded data removed]",
      "text/plain": [
       "<Figure size 432x288 with 1 Axes>"
      ]
     },
     "metadata": {},
     "output_type": "display_data"
    }
   ],
   "source": [
    "pyplot.boxplot(x = results.values(), \n",
    "               labels=results.keys(), showmeans=True);"
   ]
  },
  {
   "cell_type": "markdown",
   "metadata": {},
   "source": [
    "#### Model Evaluation with Power Transform\n",
    "\n",
    "There is further data preparation to make the input variables more Gaussian, such as powertransforms.\n",
    "Power transforms, such as the Box-Cox and Yeo-Johnson transforms, are designed to changethe distribution to be more Gaussian.  This will help with theageinput variable in our dataset\n",
    "26.5. Evaluate Probabilistic Models336and may help with thenodesvariable and un-bunch the distribution slightly.  We can use thePowerTransformerscikit-learn class to perform the Yeo-Johnson transform and automaticallydetermine the best parameters to apply based on the dataset, e.g.  how to best make eachvariable more Gaussian.  Importantly, this transformer will also standardize the dataset as partof the transform, ensuring we keep the gains seen in the previous sec"
   ]
  },
  {
   "cell_type": "code",
   "execution_count": 20,
   "metadata": {},
   "outputs": [
    {
     "name": "stdout",
     "output_type": "stream",
     "text": [
      "LR-> 0.110 +/- (0.142)\n",
      "LDA-> 0.107 +/- (0.164)\n",
      "GPC-> 0.100 +/- (0.130)\n"
     ]
    }
   ],
   "source": [
    "from sklearn.preprocessing import PowerTransformer, MinMaxScaler\n",
    "\n",
    "\n",
    "def get_models():\n",
    "    models = {}\n",
    "    models['LR'] = LogisticRegression(solver='lbfgs')\n",
    "    models['LDA'] = LinearDiscriminantAnalysis()\n",
    "    models['GPC'] = GaussianProcessClassifier()\n",
    "    return models\n",
    "\n",
    "results = {}\n",
    "for name, model in get_models().items():\n",
    "    steps = [\n",
    "        ('t1', MinMaxScaler()),\n",
    "        ('t2', PowerTransformer()),\n",
    "        (name, model)\n",
    "    ]\n",
    "    pipeline = Pipeline(steps=steps)\n",
    "    scores = evaluate_model(X, y, pipeline)\n",
    "    results[name] = scores\n",
    "    print(f\"{name}-> {np.mean(scores):.3f} +/- ({np.std(scores):.3f})\")"
   ]
  },
  {
   "cell_type": "code",
   "execution_count": 21,
   "metadata": {},
   "outputs": [
    {
     "data": {
      "image/png": "[encoded data removed]",
      "text/plain": [
       "<Figure size 432x288 with 1 Axes>"
      ]
     },
     "metadata": {},
     "output_type": "display_data"
    }
   ],
   "source": [
    "pyplot.boxplot(x = results.values(), \n",
    "               labels=results.keys(), showmeans=True);"
   ]
  },
  {
   "cell_type": "markdown",
   "metadata": {},
   "source": [
    "#### Make a prediction on new data\n",
    "\n",
    "We will select the Logistic Regression model with a power transform on the input data as ourfinal model.  We can define and fit this model on the entire training dataset."
   ]
  },
  {
   "cell_type": "code",
   "execution_count": 24,
   "metadata": {},
   "outputs": [
    {
     "data": {
      "text/plain": [
       "Pipeline(steps=[('t1', MinMaxScaler()), ('t2', PowerTransformer()),\n",
       "                ('LR', LogisticRegression())])"
      ]
     },
     "execution_count": 24,
     "metadata": {},
     "output_type": "execute_result"
    }
   ],
   "source": [
    "steps = [\n",
    "        ('t1', MinMaxScaler()),\n",
    "        ('t2', PowerTransformer()),\n",
    "        ('LR', LogisticRegression(solver='lbfgs'))\n",
    "    ]\n",
    "model = Pipeline(steps= steps)\n",
    "model.fit(X, y)"
   ]
  },
  {
   "cell_type": "markdown",
   "metadata": {},
   "source": [
    "we can use it to make predictions for new data by calling thepredictproba()function.  This will return two probabilities for each prediction, the first for survival and thesecond for non-survival, e.g.  its complement.  For example:"
   ]
  },
  {
   "cell_type": "code",
   "execution_count": 56,
   "metadata": {},
   "outputs": [
    {
     "data": {
      "text/plain": [
       "83.59683513677221"
      ]
     },
     "execution_count": 56,
     "metadata": {},
     "output_type": "execute_result"
    }
   ],
   "source": [
    "row = [31, 59, 2]\n",
    "yhat = model.predict_proba([row])\n",
    "yhat[0,0] * 100"
   ]
  },
  {
   "cell_type": "code",
   "execution_count": 109,
   "metadata": {},
   "outputs": [
    {
     "name": "stdout",
     "output_type": "stream",
     "text": [
      "ns_rows ::mean results 62.41 +/- (17.02)\n",
      "s_rows ::mean results 72.33 +/- (14.85)\n"
     ]
    }
   ],
   "source": [
    "data_rows = {}\n",
    "data_rows['ns_rows'] = df[df['class'] == 2].sample(10).values[:,:-1]\n",
    "data_rows['s_rows'] = df[df['class'] == 1].sample(10).values[:,:-1]\n",
    "\n",
    "from collections import defaultdict\n",
    "\n",
    "results = defaultdict(list)\n",
    "for k, rows in data_rows.items():\n",
    "    for r in rows:\n",
    "        yhat = model.predict_proba([r]) # make prediction\n",
    "        p_survive = yhat[0,0] * 100\n",
    "        results[k].append(p_survive)\n",
    "        #print(f'{k}-> {r} ::: {p_survive:.3f}')\n",
    "    print(f\"{k} ::mean results {np.mean(results[k]):.2f} +/- ({np.std(results[k]):.2f})\")"
   ]
  },
  {
   "cell_type": "code",
   "execution_count": null,
   "metadata": {},
   "outputs": [],
   "source": []
  }
 ],
 "metadata": {
  "kernelspec": {
   "display_name": "Python 3",
   "language": "python",
   "name": "python3"
  },
  "language_info": {
   "codemirror_mode": {
    "name": "ipython",
    "version": 3
   },
   "file_extension": ".py",
   "mimetype": "text/x-python",
   "name": "python",
   "nbconvert_exporter": "python",
   "pygments_lexer": "ipython3",
   "version": "3.8.5"
  }
 },
 "nbformat": 4,
 "nbformat_minor": 4
}
