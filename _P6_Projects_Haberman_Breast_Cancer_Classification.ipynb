{
 "cells": [
  {
   "cell_type": "markdown",
   "metadata": {},
   "source": [
    "### Introduction\n",
    "\n",
    "Chapter VII -> Project Haberman Breast Cancer Classification"
   ]
  },
  {
   "cell_type": "code",
   "execution_count": 163,
   "metadata": {},
   "outputs": [],
   "source": [
    "import pandas as pd\n",
    "import numpy as np"
   ]
  },
  {
   "cell_type": "markdown",
   "metadata": {},
   "source": [
    "### Data exploration"
   ]
  },
  {
   "cell_type": "code",
   "execution_count": 28,
   "metadata": {},
   "outputs": [],
   "source": [
    "path = \"https://raw.githubusercontent.com/jbrownlee/Datasets/master/haberman.csv\"\n",
    "df = pd.read_csv(path, names = ['age','year','nodes','class'])"
   ]
  },
  {
   "cell_type": "code",
   "execution_count": 29,
   "metadata": {},
   "outputs": [
    {
     "data": {
      "text/html": [
       "<div>\n",
       "<style scoped>\n",
       "    .dataframe tbody tr th:only-of-type {\n",
       "        vertical-align: middle;\n",
       "    }\n",
       "\n",
       "    .dataframe tbody tr th {\n",
       "        vertical-align: top;\n",
       "    }\n",
       "\n",
       "    .dataframe thead th {\n",
       "        text-align: right;\n",
       "    }\n",
       "</style>\n",
       "<table border=\"1\" class=\"dataframe\">\n",
       "  <thead>\n",
       "    <tr style=\"text-align: right;\">\n",
       "      <th></th>\n",
       "      <th>count</th>\n",
       "      <th>mean</th>\n",
       "      <th>std</th>\n",
       "      <th>min</th>\n",
       "      <th>25%</th>\n",
       "      <th>50%</th>\n",
       "      <th>75%</th>\n",
       "      <th>max</th>\n",
       "    </tr>\n",
       "  </thead>\n",
       "  <tbody>\n",
       "    <tr>\n",
       "      <th>age</th>\n",
       "      <td>306.0</td>\n",
       "      <td>52.457516</td>\n",
       "      <td>10.803452</td>\n",
       "      <td>30.0</td>\n",
       "      <td>44.0</td>\n",
       "      <td>52.0</td>\n",
       "      <td>60.75</td>\n",
       "      <td>83.0</td>\n",
       "    </tr>\n",
       "    <tr>\n",
       "      <th>year</th>\n",
       "      <td>306.0</td>\n",
       "      <td>62.852941</td>\n",
       "      <td>3.249405</td>\n",
       "      <td>58.0</td>\n",
       "      <td>60.0</td>\n",
       "      <td>63.0</td>\n",
       "      <td>65.75</td>\n",
       "      <td>69.0</td>\n",
       "    </tr>\n",
       "    <tr>\n",
       "      <th>nodes</th>\n",
       "      <td>306.0</td>\n",
       "      <td>4.026144</td>\n",
       "      <td>7.189654</td>\n",
       "      <td>0.0</td>\n",
       "      <td>0.0</td>\n",
       "      <td>1.0</td>\n",
       "      <td>4.00</td>\n",
       "      <td>52.0</td>\n",
       "    </tr>\n",
       "    <tr>\n",
       "      <th>class</th>\n",
       "      <td>306.0</td>\n",
       "      <td>1.264706</td>\n",
       "      <td>0.441899</td>\n",
       "      <td>1.0</td>\n",
       "      <td>1.0</td>\n",
       "      <td>1.0</td>\n",
       "      <td>2.00</td>\n",
       "      <td>2.0</td>\n",
       "    </tr>\n",
       "  </tbody>\n",
       "</table>\n",
       "</div>"
      ],
      "text/plain": [
       "       count       mean        std   min   25%   50%    75%   max\n",
       "age    306.0  52.457516  10.803452  30.0  44.0  52.0  60.75  83.0\n",
       "year   306.0  62.852941   3.249405  58.0  60.0  63.0  65.75  69.0\n",
       "nodes  306.0   4.026144   7.189654   0.0   0.0   1.0   4.00  52.0\n",
       "class  306.0   1.264706   0.441899   1.0   1.0   1.0   2.00   2.0"
      ]
     },
     "execution_count": 29,
     "metadata": {},
     "output_type": "execute_result"
    }
   ],
   "source": [
    "df.describe().T"
   ]
  },
  {
   "cell_type": "code",
   "execution_count": 30,
   "metadata": {},
   "outputs": [
    {
     "data": {
      "image/png": "[encoded data removed]",
      "text/plain": [
       "<Figure size 432x288 with 4 Axes>"
      ]
     },
     "metadata": {
      "needs_background": "light"
     },
     "output_type": "display_data"
    }
   ],
   "source": [
    "df.hist();"
   ]
  },
  {
   "cell_type": "code",
   "execution_count": 31,
   "metadata": {},
   "outputs": [
    {
     "data": {
      "text/html": [
       "<div>\n",
       "<style scoped>\n",
       "    .dataframe tbody tr th:only-of-type {\n",
       "        vertical-align: middle;\n",
       "    }\n",
       "\n",
       "    .dataframe tbody tr th {\n",
       "        vertical-align: top;\n",
       "    }\n",
       "\n",
       "    .dataframe thead th {\n",
       "        text-align: right;\n",
       "    }\n",
       "</style>\n",
       "<table border=\"1\" class=\"dataframe\">\n",
       "  <thead>\n",
       "    <tr style=\"text-align: right;\">\n",
       "      <th></th>\n",
       "      <th>class_count</th>\n",
       "      <th>class_pct</th>\n",
       "    </tr>\n",
       "  </thead>\n",
       "  <tbody>\n",
       "    <tr>\n",
       "      <th>1</th>\n",
       "      <td>225</td>\n",
       "      <td>73.529412</td>\n",
       "    </tr>\n",
       "    <tr>\n",
       "      <th>2</th>\n",
       "      <td>81</td>\n",
       "      <td>26.470588</td>\n",
       "    </tr>\n",
       "  </tbody>\n",
       "</table>\n",
       "</div>"
      ],
      "text/plain": [
       "   class_count  class_pct\n",
       "1          225  73.529412\n",
       "2           81  26.470588"
      ]
     },
     "execution_count": 31,
     "metadata": {},
     "output_type": "execute_result"
    }
   ],
   "source": [
    "counter = df['class'].value_counts\n",
    "pd.concat([\n",
    "    counter() , counter(normalize=True) * 100\n",
    "], axis=1, keys = ['class_count', 'class_pct']\n",
    ")"
   ]
  },
  {
   "cell_type": "markdown",
   "metadata": {},
   "source": [
    "### Baseline\n",
    "\n",
    "\n",
    "Metric needed\n",
    "Given that we are interested in predicting a probability of survival, we need a performancemetric that evaluates the skill of a model based on the predicted probabilities.  In this case,we  will  use  the  Brier  score  that  calculates  the  mean  squared  error  between  the  predictedprobabilities and the expected probabilities .\n",
    "This can be calculated using the brier scoreloss() scikit-learn function.\n",
    "\n",
    "A reference prediction for a problem in which we are predicting probabilities is the probability of the positive class label in the dataset.  In this case,  the positive classlabel represents non-survival and occurs about 26% in the dataset.  Therefore, predicting about 0.26471 represents the worst-case or baseline performance for a predictive model on this dataset.\n",
    "\n",
    "Any model that has a Brier score better than this has some skill, where as any model thatas a Brier score lower than this has no skill.  The Brier Skill Score captures this importantrelationship.  We can calculate the Brier score for this default prediction strategy automaticallyfor each training set in thek-fold cross-validation process, then use it as a point of comparisonfor a given model."
   ]
  },
  {
   "cell_type": "code",
   "execution_count": 106,
   "metadata": {},
   "outputs": [],
   "source": [
    "y_true = (df['class'].values == 2).astype(int)\n",
    "ref_probs = [y_true.mean() for _ in range(y_true.shape[0])]\n",
    "bs_ref = brier_score_loss(y_true, ref_probs)"
   ]
  },
  {
   "cell_type": "code",
   "execution_count": 170,
   "metadata": {},
   "outputs": [],
   "source": [
    "# calculate reference brier score\n",
    "\n",
    "from collections import Counter\n",
    "from sklearn.preprocessing import LabelEncoder\n",
    "from sklearn.model_selection import cross_val_score\n",
    "from sklearn.model_selection import RepeatedStratifiedKFold\n",
    "from sklearn.metrics import brier_score_loss\n",
    "from sklearn.metrics import make_scorer\n",
    "from sklearn.dummy import DummyClassifier\n",
    "\n",
    "def load_dataset(path):\n",
    "    data = pd.read_csv(path, names = ['age','year','nodes','class']).values\n",
    "    X, y = data[:, :-1], data[: ,-1]\n",
    "    y = LabelEncoder().fit_transform(y)\n",
    "    return X, y \n",
    "\n",
    "\n",
    "# calculate brier skill score (BSS)\n",
    "def brier_skill_score(y_true, y_prob):\n",
    "\t# calculate reference brier score\n",
    "\tref_probs = [0.26471 for _ in range(len(y_true))]\n",
    "\tbs_ref = brier_score_loss(y_true=y_true,y_prob= ref_probs)\n",
    "\t# calculate model brier score\n",
    "\tbs_model = brier_score_loss(y_true= y_true, y_prob=y_prob)\n",
    "\t# calculate skill score\n",
    "\treturn 1.0 - (bs_model / bs_ref)\n",
    "\n",
    "\n",
    "\n",
    "def evaluate_model(X, y, model):\n",
    "    cv = RepeatedStratifiedKFold(n_splits=10, n_repeats=3, random_state=1)\n",
    "    metric = make_scorer(score_func=brier_skill_score, needs_proba=True)\n",
    "    scores = cross_val_score(estimator=model, X=X, y=y, scoring=metric, cv=cv, n_jobs=-1)\n",
    "    return scores\n",
    "\n",
    "# evaluate a model\n",
    "def evaluate_model(X, y, model):\n",
    "\t# define evaluation procedure\n",
    "\tcv = RepeatedStratifiedKFold(n_splits=10, n_repeats=3, random_state=1)\n",
    "\t# define the model evaluation metric\n",
    "\tmetric = make_scorer(brier_skill_score, needs_proba=True)\n",
    "\t# evaluate model\n",
    "\tscores = cross_val_score(model, X, y, scoring=metric, cv=cv, n_jobs=-1)\n",
    "\treturn scores\n",
    "\n",
    "\n"
   ]
  },
  {
   "cell_type": "code",
   "execution_count": 171,
   "metadata": {},
   "outputs": [
    {
     "name": "stdout",
     "output_type": "stream",
     "text": [
      "(306, 3) (306,) Counter({0: 225, 1: 81})\n",
      "Mean BSS for baseline -0.000 and STD 0.000\n"
     ]
    }
   ],
   "source": [
    "X, y = load_dataset(path)\n",
    "print(X.shape, y.shape, Counter(y))\n",
    "model = DummyClassifier(strategy='prior')\n",
    "scores = evaluate_model(X, y, model)\n",
    "print(f\"Mean BSS for baseline {np.mean(scores):.3f} and STD {np.std(scores):.3f}\")"
   ]
  }
 ],
 "metadata": {
  "kernelspec": {
   "display_name": "Python 3",
   "language": "python",
   "name": "python3"
  },
  "language_info": {
   "codemirror_mode": {
    "name": "ipython",
    "version": 3
   },
   "file_extension": ".py",
   "mimetype": "text/x-python",
   "name": "python",
   "nbconvert_exporter": "python",
   "pygments_lexer": "ipython3",
   "version": "3.8.5"
  }
 },
 "nbformat": 4,
 "nbformat_minor": 4
}
