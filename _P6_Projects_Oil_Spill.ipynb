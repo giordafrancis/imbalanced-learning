{
 "cells": [
  {
   "cell_type": "markdown",
   "metadata": {},
   "source": [
    "### Project: Oil Spill Classification\n",
    "\n",
    "Many imbalanced classification tasks require a skillful model that predicts a crisp class label,where both classes are equally important. The detection of a spill requires mobilizing an expensive response,and missing an event is equally expensive, causing damage to the environment.\n",
    "\n",
    "One way to evaluate imbalanced classification models that predict crisp labels is to calculate the separate accuracy on the positive class and the negative class, referred to as sensitivity and specificity.  These two measures can then be averaged using the geometric mean, referred to as the G-mean, that is insensitive to the skewed class distribution and correctly reports on the skill of the model on both classes.\n",
    "\n",
    "#### The Data\n",
    "\n",
    "The dataset was introduced in the 1998 paperby Miroslav Kubat, et al.  titledMachine Learning for the Detection of Oil Spills in SatelliteRadar Images.  The dataset is often credited to Robert Holte, a co-author of the paper.  Thedataset was developed by starting with satellite images of the ocean, some of which contain anoil spill and some that do not.  Images were split into sections and processed using computervision algorithms to provide a vector of features to describe the contents of the image section orpatch.\n",
    "\n",
    "*The input to [the system] is a raw pixel image from a radar satellite.  Image processingtechniques are used [...]  The output of the image processing is a fixed-length featurevector for each suspicious region.  During normal operation these feature vectors arefed into a classifier to decide which images and which regions within an image topresent for human inspection —Machine Learning for the Detection of Oil Spills in Satellite Radar Images, 1998.*\n",
    "\n",
    "A total of nine satellite images were processed into patches.  Cases in the dataset are orderedby image and the first column of the dataset represents the patch number for the image.  This was provided for the purposes of estimating model performance per-image.  In this case, we arenot interested in the image or patch number and this first column can be removed.  The normal case is no oil spill assigned the class label of 0, whereas an oil spill is indicated by a class labelof 1.  There are 896 cases for no oil spill and 41 cases of an oil spill."
   ]
  },
  {
   "cell_type": "code",
   "execution_count": 19,
   "metadata": {},
   "outputs": [],
   "source": [
    "import pandas as pd\n",
    "import numpy as np\n",
    "import seaborn as sns\n",
    "from collections import Counter\n",
    "from matplotlib import pyplot\n",
    "from sklearn.preprocessing import LabelEncoder\n",
    "from sklearn.model_selection import RepeatedStratifiedKFold, cross_val_score\n",
    "from imblearn.metrics import geometric_mean_score\n",
    "from sklearn.metrics import make_scorer\n",
    "from sklearn.dummy import DummyClassifier\n",
    "\n",
    "from sklearn.pipeline import Pipeline\n",
    "from sklearn.preprocessing import StandardScaler, MinMaxScaler, PowerTransformer\n",
    "from sklearn.linear_model import LogisticRegression\n",
    "from sklearn.discriminant_analysis import LinearDiscriminantAnalysis\n",
    "from sklearn.naive_bayes import GaussianNB\n",
    "from imblearn.pipeline import Pipeline\n",
    "from imblearn.combine import SMOTEENN\n",
    "from imblearn.under_sampling import EditedNearestNeighbours\n",
    "\n",
    "sns.set()"
   ]
  },
  {
   "cell_type": "code",
   "execution_count": 69,
   "metadata": {},
   "outputs": [
    {
     "name": "stdout",
     "output_type": "stream",
     "text": [
      "Class=1, Count=41, Percentage=4.376%\n",
      "Class=0, Count=896, Percentage=95.624%\n",
      "(937, 49)\n"
     ]
    }
   ],
   "source": [
    "#file_link = \"https://raw.githubusercontent.com/jbrownlee/Datasets/master/oil-spill.csv\"\n",
    "data = pd.read_csv(path, index_col='0').drop(columns=  '22')\n",
    "target = data.values[:,-1]\n",
    "counter = Counter(target)\n",
    "for k, v in counter.items():\n",
    "    per = v / target.shape[0] * 100\n",
    "    print(\"Class=%d, Count=%d, Percentage=%.3f%%\" % (k, v, per))\n",
    "print(dataset.shape)"
   ]
  },
  {
   "cell_type": "markdown",
   "metadata": {},
   "source": [
    "We can also take a look at the distribution of each variable by creating a histogram for each.With 50 variables, it is a lot of plots, but we might spot some interesting patterns.  Also, with somany plots, we must turn off the axis labels and plot titles to reduce the clutter.  "
   ]
  },
  {
   "cell_type": "code",
   "execution_count": 4,
   "metadata": {},
   "outputs": [
    {
     "data": {
      "image/png": "[encoded data removed]",
      "text/plain": [
       "<Figure size 864x576 with 56 Axes>"
      ]
     },
     "metadata": {},
     "output_type": "display_data"
    }
   ],
   "source": [
    "ax = dataset.hist(figsize=(12,8))\n",
    "for axis in ax.flatten():\n",
    "    axis.set_title(\"\")\n",
    "    axis.set_xticklabels([])\n",
    "    axis.set_yticklabels([])"
   ]
  },
  {
   "cell_type": "markdown",
   "metadata": {},
   "source": [
    "We can see many different distributions, some with Gaussian-like distributions, others with seemingly exponential or discrete distributions.  Depending on thechoice of modeling algorithms, we would expect scaling the distributions to the same range tobe useful, and perhaps the use of some power transforms"
   ]
  },
  {
   "cell_type": "markdown",
   "metadata": {},
   "source": [
    "#### Model Test and Baseline Result\n",
    "\n",
    "We will use k=10, meaning each fold will contain about 937/10 or about 94 examples.  Stratified means that each fold will contain the same mixture of examples by class, that is about 96% to 4% non-spill and spill.Repeated means that the evaluation process will be performed multiple times to help avoid fluke results and better capture the variance of the chosen model.  We will use three repeats.  This means a single model will be fit and evaluated 10×3 (30) times and the mean and standard deviation of these runs will be reported\n",
    "\n",
    "*To this end, we have mainly used the geometric mean (g-mean) [...]  This measurehas the distinctive property of being independent of the distribution of examplesbetween classes, and is thus robust in circumstances where this distribution mightchange with time or be different in the training and testing sets—Machine Learning for the Detection of Oil Spills in Satellite Radar Images, 1998*\n",
    "\n",
    "First, we can define a function to load the dataset and split the columns into input andoutput variables.  We will also drop column 22 because the column contains a single value, andthe first column that defines the image patch number.  Theloaddataset()function belowimplements this"
   ]
  },
  {
   "cell_type": "code",
   "execution_count": 64,
   "metadata": {},
   "outputs": [
    {
     "name": "stdout",
     "output_type": "stream",
     "text": [
      "Mean G-Mean: 0.470 (0.124)\n",
      "(937, 47) (937,) Counter({0: 896, 1: 41})\n"
     ]
    }
   ],
   "source": [
    "def load_dataset(path):\n",
    "    data = pd.read_csv(path, index_col='0').drop(columns=  '22')\n",
    "    data = data.values\n",
    "    X, y = data[:,:-1], data[:, -1]\n",
    "    y = LabelEncoder().fit_transform(y)\n",
    "    return X, y\n",
    "\n",
    "def evaluate_model(X, y, model):\n",
    "    cv = RepeatedStratifiedKFold(n_splits=10, n_repeats=3, random_state=1)\n",
    "    metric = make_scorer(geometric_mean_score)\n",
    "    scores = cross_val_score(estimator=model, X=X, y=y, scoring=metric, cv=cv, n_jobs=-1)\n",
    "    return scores\n",
    "\n",
    "path = 'data/oil-spill.csv'\n",
    "X, y = load_dataset(path)\n",
    "model = DummyClassifier(strategy='uniform') # ref model\n",
    "scores = evaluate_model(X=X, y=y, model=model)\n",
    "print(\"Mean G-Mean: %.3f (%.3f)\" %  (np.mean(scores), np.std(scores)))\n",
    "print(X.shape, y.shape, Counter(y))"
   ]
  },
  {
   "cell_type": "markdown",
   "metadata": {},
   "source": [
    "In this case, we can see that the baseline algorithm achieves a G-mean of about 0.47, close to the theoretical maximum of 0.5.  This score provides a lower limit on model skill; any model that achieves an average G-mean above about 0.47 (or really above 0.5) has skill, whereas models that achieve a score below this value do not have skill on this dataset."
   ]
  },
  {
   "cell_type": "markdown",
   "metadata": {},
   "source": [
    "#### Evaluate Probabilistic Models\n",
    "\n",
    "Let’s start by evaluating some probabilistic models on the dataset.  Probabilistic models arethose models that are fit on the data under a probabilistic framework and often perform well in general for imbalanced classification datasets.\n",
    "\n",
    " - Logistic Regression (LR)\n",
    " - Linear Discriminant Analysis(LDA)\n",
    " - Gaussian Naive Bayes(NB)\n",
    " \n",
    " Both LR and LDA are sensitive to the scale of the input variables, and often expect and/or perform  better  if  input  variables  with  different  scales  are  normalized  or  standardized  as  apre-processing step."
   ]
  },
  {
   "cell_type": "code",
   "execution_count": 13,
   "metadata": {},
   "outputs": [
    {
     "name": "stdout",
     "output_type": "stream",
     "text": [
      "LR-> 0.673, (0.198)\n",
      "LDA-> 0.098, (0.196)\n",
      "GNB-> 0.707, (0.202)\n"
     ]
    }
   ],
   "source": [
    "def get_models():\n",
    "    models = {}\n",
    "    models['LR'] = Pipeline(steps = [\n",
    "                ('t', StandardScaler()), \n",
    "                ('m', LogisticRegression(solver='lbfgs'))]\n",
    "                           )\n",
    "                 \n",
    "    models['LDA'] = Pipeline(steps = [\n",
    "                ('t', MinMaxScaler()), \n",
    "                ('m', LogisticRegression(solver='lbfgs'))]\n",
    "                            )\n",
    "    models['GNB'] = GaussianNB()\n",
    "    return models\n",
    "\n",
    "results = {}\n",
    "for name, pipeline  in get_models().items():\n",
    "    scores = evaluate_model(X, y, pipeline)\n",
    "    results[name] = scores\n",
    "    print(f\"{name}-> {np.mean(scores):.3f}, ({np.std(scores):.3f})\")\n"
   ]
  },
  {
   "cell_type": "markdown",
   "metadata": {},
   "source": [
    "You may see some warnings from the LDA algorithm such as:Variables are collinear.  These can  be  safely  ignored  for  now,  but  suggests  that  the  algorithm  could  benefit  from feature selection to remove some of the variables.  In this case, we can see that each algorithm has skill, achieving a mean G-mean above 0.5.  The results suggest that an LDA might be the best performing of the models tested."
   ]
  },
  {
   "cell_type": "code",
   "execution_count": 8,
   "metadata": {},
   "outputs": [
    {
     "data": {
      "image/png": "[encoded data removed]",
      "text/plain": [
       "<Figure size 864x576 with 1 Axes>"
      ]
     },
     "metadata": {},
     "output_type": "display_data"
    }
   ],
   "source": [
    "pyplot.figure(figsize=(12,8))\n",
    "pyplot.boxplot(results.values(), \n",
    "               labels= results.keys(), showmeans=True);"
   ]
  },
  {
   "cell_type": "markdown",
   "metadata": {},
   "source": [
    "#### Evaluate Balanced Logistic Regressio"
   ]
  },
  {
   "cell_type": "markdown",
   "metadata": {},
   "source": [
    "The  logistic  regression  algorithm  supports  a  modification  that  adjusts  the  importance  ofclassification errors to be inversely proportional to the class weighting.  This allows the modelto better learn the class boundary in favor of the minority class,  which might help overall G-mean  performance.  \n",
    "\n",
    "As mentioned, logistic regression is sensitive to the scale of input variables and can performbetter with normalized or standardized inputs; as such it is a good idea to test both for a givendataset.  Additionally, a power distribution can be used to spread out the distribution of each and make those variables with a Gaussian-like distribution more Gaussian.  This \n",
    "can benefit models like Logistic Regression that make assumptions about the distribution ofinput variables."
   ]
  },
  {
   "cell_type": "code",
   "execution_count": 17,
   "metadata": {},
   "outputs": [
    {
     "name": "stdout",
     "output_type": "stream",
     "text": [
      "balanced-> 0.843, (0.123)\n",
      "balanced_normed-> 0.836, (0.088)\n",
      "balanced_std-> 0.834, (0.129)\n",
      "balanced_power-> 0.862, (0.124)\n"
     ]
    }
   ],
   "source": [
    "LR_ARGS = {'solver':'liblinear', 'class_weight':'balanced'}\n",
    "\n",
    "def get_models():\n",
    "    models = {}\n",
    "    models['balanced'] = Pipeline(steps = [\n",
    "                 ('m', LogisticRegression(**LR_ARGS))\n",
    "    ])\n",
    "                 \n",
    "    models['balanced_normed'] = Pipeline(steps = [\n",
    "                ('t', MinMaxScaler()), \n",
    "                ('m', LogisticRegression(**LR_ARGS))\n",
    "    ])\n",
    "                            \n",
    "    models['balanced_std'] = Pipeline(steps = [\n",
    "                ('t', StandardScaler()), \n",
    "                ('m', LogisticRegression(**LR_ARGS))\n",
    "    ])\n",
    "    \n",
    "    models['balanced_power'] = Pipeline(steps = [\n",
    "                ('t1', MinMaxScaler()),\n",
    "                ('t', PowerTransformer()),\n",
    "                ('m', LogisticRegression(**LR_ARGS))\n",
    "    ])\n",
    "    return models\n",
    "\n",
    "results = {}\n",
    "for name, pipeline  in get_models().items():\n",
    "    scores = evaluate_model(X, y, pipeline)\n",
    "    results[name] = scores\n",
    "    print(f\"{name}-> {np.mean(scores):.3f}, ({np.std(scores):.3f})\")\n"
   ]
  },
  {
   "cell_type": "code",
   "execution_count": 18,
   "metadata": {},
   "outputs": [
    {
     "data": {
      "image/png": "[encoded data removed]",
      "text/plain": [
       "<Figure size 864x576 with 1 Axes>"
      ]
     },
     "metadata": {},
     "output_type": "display_data"
    }
   ],
   "source": [
    "pyplot.figure(figsize=(12,8))\n",
    "pyplot.boxplot(results.values(), \n",
    "               labels= results.keys(), showmeans=True);"
   ]
  },
  {
   "cell_type": "markdown",
   "metadata": {},
   "source": [
    " We can see that the distribution for the balanced LR is tighter ingeneral than the non-balanced version in the previous section.  We can also see that the medianresult (orange line) for the normalized version is higher than the mean, above 0.9, which isimpressive.  A mean different from the median suggests a skewed distribution for the results,pulling the mean down with a few bad outcomes"
   ]
  },
  {
   "cell_type": "markdown",
   "metadata": {},
   "source": [
    "### Evaluate Data Sampling With Probabilistic Models\n",
    "\n",
    "SMOTE  and  ENN  both  work  better  when  the  input  data  is  scaled  beforehand.   Thisis because both techniques involve using the nearest neighbor algorithm internally and thisalgorithm is sensitive to input variables with different scales. We will compare four variations of the logistic regressionmodel with data sampling."
   ]
  },
  {
   "cell_type": "code",
   "execution_count": 23,
   "metadata": {},
   "outputs": [
    {
     "name": "stdout",
     "output_type": "stream",
     "text": [
      "LR-> 0.854, (0.096)\n",
      "Norm-> 0.819, (0.110)\n",
      "Std-> 0.819, (0.134)\n",
      "Power-> 0.877, (0.120)\n"
     ]
    }
   ],
   "source": [
    "def get_models():\n",
    "    models = {}\n",
    "    sampling = SMOTEENN(enn=\n",
    "            EditedNearestNeighbours(sampling_strategy = 'majority'))\n",
    "    model = LogisticRegression(solver='liblinear')\n",
    "    \n",
    "    models['LR'] = Pipeline(steps = [('e', sampling), ('m', model)])\n",
    "    norm = MinMaxScaler()\n",
    "    models['Norm'] = Pipeline(steps = [('t', norm),\n",
    "                                      ('e', sampling), ('m', model)])\n",
    "    std = StandardScaler()\n",
    "    models['Std'] = Pipeline(steps = [('t', std),\n",
    "                                      ('e', sampling), ('m', model)])\n",
    "    \n",
    "    power_t = PowerTransformer()\n",
    "    models['Power'] = Pipeline(steps = [('t1', norm),('t2', power_t),\n",
    "                                      ('e', sampling), ('m', model)]\n",
    "                             )\n",
    "    return models\n",
    "\n",
    "results = {}\n",
    "for name, pipeline  in get_models().items():\n",
    "    scores = evaluate_model(X, y, pipeline)\n",
    "    results[name] = scores\n",
    "    print(f\"{name}-> {np.mean(scores):.3f}, ({np.std(scores):.3f})\")"
   ]
  },
  {
   "cell_type": "code",
   "execution_count": 24,
   "metadata": {},
   "outputs": [
    {
     "data": {
      "image/png": "[encoded data removed]",
      "text/plain": [
       "<Figure size 864x576 with 1 Axes>"
      ]
     },
     "metadata": {},
     "output_type": "display_data"
    }
   ],
   "source": [
    "pyplot.figure(figsize=(12,8))\n",
    "pyplot.boxplot(results.values(), \n",
    "               labels= results.keys(), showmeans=True);"
   ]
  },
  {
   "cell_type": "markdown",
   "metadata": {},
   "source": [
    "In this case, we can see that the addition of SMOTEENN improves the performance of thedefault LR algorithm, achieving a mean G-mean of 0.852 compared to 0.621 seen in the firstset of experimental results.  This is even better than balanced LR without any data scaling(previous section) that achieved a G-mean of about 0.846.\n",
    "\n",
    "The results suggest that perhaps the final combination of normalization, power transform,and standardization achieves a slightly better score than the default LR with SMOTEENN witha G-mean of about 0.873"
   ]
  },
  {
   "cell_type": "markdown",
   "metadata": {},
   "source": [
    "#### Make Prediction on New Data\n",
    "\n",
    "The use of SMOTEENN with Logistic Regression directly without any data scaling probablyprovides the simplest and well-performing model that could be used going forward.  This modelhad a mean G-mean of about 0.852 on our test harness.  We will use this as our final model anduse it to make predictions on new data.  First, we can define the model as a pipeline"
   ]
  },
  {
   "cell_type": "code",
   "execution_count": 70,
   "metadata": {},
   "outputs": [
    {
     "data": {
      "text/plain": [
       "Pipeline(steps=[('e',\n",
       "                 SMOTEENN(enn=EditedNearestNeighbours(sampling_strategy='majority'))),\n",
       "                ('m', LogisticRegression(solver='liblinear'))])"
      ]
     },
     "execution_count": 70,
     "metadata": {},
     "output_type": "execute_result"
    }
   ],
   "source": [
    "sampling = SMOTEENN(enn=\n",
    "            EditedNearestNeighbours(sampling_strategy = 'majority'))\n",
    "model = LogisticRegression(solver='liblinear')\n",
    "pipeline = Pipeline(steps=[('e', sampling), ('m', model)])\n",
    "\n",
    "X, y = load_dataset(path)\n",
    "\n",
    "pipeline.fit(X,y)"
   ]
  },
  {
   "cell_type": "code",
   "execution_count": 90,
   "metadata": {},
   "outputs": [
    {
     "name": "stdout",
     "output_type": "stream",
     "text": [
      "Predicted=0 (expected 0)\n",
      "Predicted=0 (expected 0)\n",
      "Predicted=0 (expected 0)\n",
      "Predicted=0 (expected 0)\n",
      "Predicted=1 (expected 0)\n",
      "Predicted=0 (expected 0)\n",
      "Predicted=0 (expected 0)\n",
      "Predicted=0 (expected 0)\n",
      "Predicted=0 (expected 0)\n",
      "Predicted=0 (expected 0)\n",
      "Predicted=0 (expected 0)\n",
      "Predicted=0 (expected 0)\n",
      "Predicted=1 (expected 0)\n",
      "Predicted=0 (expected 0)\n",
      "Predicted=1 (expected 0)\n",
      "\n",
      "\n",
      "Predicted=1 (expected 1)\n",
      "Predicted=0 (expected 1)\n",
      "Predicted=1 (expected 1)\n",
      "Predicted=1 (expected 1)\n",
      "Predicted=1 (expected 1)\n",
      "Predicted=1 (expected 1)\n",
      "Predicted=1 (expected 1)\n",
      "Predicted=1 (expected 1)\n",
      "Predicted=1 (expected 1)\n",
      "Predicted=1 (expected 1)\n",
      "Predicted=1 (expected 1)\n",
      "Predicted=1 (expected 1)\n",
      "Predicted=1 (expected 1)\n",
      "Predicted=1 (expected 1)\n",
      "Predicted=1 (expected 1)\n"
     ]
    }
   ],
   "source": [
    "# evaluate on no spill cases\n",
    "no_spill_vals = data[data['49'] == 0].drop(columns= '49').sample(15).values\n",
    "for row in no_spill_vals:\n",
    "    y_hat = pipeline.predict([row])\n",
    "    label = y_hat[0]\n",
    "    print(\"Predicted=%d (expected 0)\" % (label))\n",
    "print(\"\\n\")\n",
    "spill_vals = data[data['49'] == 1].drop(columns= '49').sample(15).values\n",
    "for row in spill_vals:\n",
    "    y_hat = pipeline.predict([row])\n",
    "    label = y_hat[0]\n",
    "    print(\"Predicted=%d (expected 1)\" % (label))"
   ]
  },
  {
   "cell_type": "code",
   "execution_count": 91,
   "metadata": {},
   "outputs": [
    {
     "name": "stdout",
     "output_type": "stream",
     "text": [
      "Help on function geometric_mean_score in module imblearn.metrics._classification:\n",
      "\n",
      "geometric_mean_score(y_true, y_pred, *, labels=None, pos_label=1, average='multiclass', sample_weight=None, correction=0.0)\n",
      "    Compute the geometric mean.\n",
      "    \n",
      "    The geometric mean (G-mean) is the root of the product of class-wise\n",
      "    sensitivity. This measure tries to maximize the accuracy on each of the\n",
      "    classes while keeping these accuracies balanced. For binary classification\n",
      "    G-mean is the squared root of the product of the sensitivity\n",
      "    and specificity. For multi-class problems it is a higher root of the\n",
      "    product of sensitivity for each class.\n",
      "    \n",
      "    For compatibility with other imbalance performance measures, G-mean can be\n",
      "    calculated for each class separately on a one-vs-rest basis when\n",
      "    ``average != 'multiclass'``.\n",
      "    \n",
      "    The best value is 1 and the worst value is 0. Traditionally if at least one\n",
      "    class is unrecognized by the classifier, G-mean resolves to zero. To\n",
      "    alleviate this property, for highly multi-class the sensitivity of\n",
      "    unrecognized classes can be \"corrected\" to be a user specified value\n",
      "    (instead of zero). This option works only if ``average == 'multiclass'``.\n",
      "    \n",
      "    Read more in the :ref:`User Guide <imbalanced_metrics>`.\n",
      "    \n",
      "    Parameters\n",
      "    ----------\n",
      "    y_true : ndarray, shape (n_samples, )\n",
      "        Ground truth (correct) target values.\n",
      "    \n",
      "    y_pred : ndarray, shape (n_samples, )\n",
      "        Estimated targets as returned by a classifier.\n",
      "    \n",
      "    labels : list, optional\n",
      "        The set of labels to include when ``average != 'binary'``, and their\n",
      "        order if ``average is None``. Labels present in the data can be\n",
      "        excluded, for example to calculate a multiclass average ignoring a\n",
      "        majority negative class, while labels not present in the data will\n",
      "        result in 0 components in a macro average.\n",
      "    \n",
      "    pos_label : str or int, optional (default=1)\n",
      "        The class to report if ``average='binary'`` and the data is binary.\n",
      "        If the data are multiclass, this will be ignored;\n",
      "        setting ``labels=[pos_label]`` and ``average != 'binary'`` will report\n",
      "        scores for that label only.\n",
      "    \n",
      "    average : str or None, optional (default='multiclass')\n",
      "        If ``None``, the scores for each class are returned. Otherwise, this\n",
      "        determines the type of averaging performed on the data:\n",
      "    \n",
      "        ``'binary'``:\n",
      "            Only report results for the class specified by ``pos_label``.\n",
      "            This is applicable only if targets (``y_{true,pred}``) are binary.\n",
      "        ``'micro'``:\n",
      "            Calculate metrics globally by counting the total true positives,\n",
      "            false negatives and false positives.\n",
      "        ``'macro'``:\n",
      "            Calculate metrics for each label, and find their unweighted\n",
      "            mean.  This does not take label imbalance into account.\n",
      "        ``'weighted'``:\n",
      "            Calculate metrics for each label, and find their average, weighted\n",
      "            by support (the number of true instances for each label). This\n",
      "            alters 'macro' to account for label imbalance; it can result in an\n",
      "            F-score that is not between precision and recall.\n",
      "        ``'samples'``:\n",
      "            Calculate metrics for each instance, and find their average (only\n",
      "            meaningful for multilabel classification where this differs from\n",
      "            :func:`accuracy_score`).\n",
      "    \n",
      "    sample_weight : ndarray, shape (n_samples, )\n",
      "        Sample weights.\n",
      "    \n",
      "    correction: float, optional (default=0.0)\n",
      "        Substitutes sensitivity of unrecognized classes from zero to a given\n",
      "        value.\n",
      "    \n",
      "    Returns\n",
      "    -------\n",
      "    geometric_mean : float\n",
      "    \n",
      "    Notes\n",
      "    -----\n",
      "    See :ref:`sphx_glr_auto_examples_evaluation_plot_metrics.py`.\n",
      "    \n",
      "    References\n",
      "    ----------\n",
      "    .. [1] Kubat, M. and Matwin, S. \"Addressing the curse of\n",
      "       imbalanced training sets: one-sided selection\" ICML (1997)\n",
      "    \n",
      "    .. [2] Barandela, R., Sánchez, J. S., Garcıa, V., & Rangel, E. \"Strategies\n",
      "       for learning in class imbalance problems\", Pattern Recognition,\n",
      "       36(3), (2003), pp 849-851.\n",
      "    \n",
      "    Examples\n",
      "    --------\n",
      "    >>> from imblearn.metrics import geometric_mean_score\n",
      "    >>> y_true = [0, 1, 2, 0, 1, 2]\n",
      "    >>> y_pred = [0, 2, 1, 0, 0, 1]\n",
      "    >>> geometric_mean_score(y_true, y_pred)\n",
      "    0.0\n",
      "    >>> geometric_mean_score(y_true, y_pred, correction=0.001)\n",
      "    0.010000000000000004\n",
      "    >>> geometric_mean_score(y_true, y_pred, average='macro')\n",
      "    0.47140452079103168\n",
      "    >>> geometric_mean_score(y_true, y_pred, average='micro')\n",
      "    0.47140452079103168\n",
      "    >>> geometric_mean_score(y_true, y_pred, average='weighted')\n",
      "    0.47140452079103168\n",
      "    >>> geometric_mean_score(y_true, y_pred, average=None)\n",
      "    array([ 0.8660254,  0.       ,  0.       ])\n",
      "\n"
     ]
    }
   ],
   "source": [
    "help(geometric_mean_score)"
   ]
  },
  {
   "cell_type": "code",
   "execution_count": null,
   "metadata": {},
   "outputs": [],
   "source": []
  },
  {
   "cell_type": "code",
   "execution_count": null,
   "metadata": {},
   "outputs": [],
   "source": []
  },
  {
   "cell_type": "code",
   "execution_count": null,
   "metadata": {},
   "outputs": [],
   "source": []
  }
 ],
 "metadata": {
  "kernelspec": {
   "display_name": "Python 3",
   "language": "python",
   "name": "python3"
  },
  "language_info": {
   "codemirror_mode": {
    "name": "ipython",
    "version": 3
   },
   "file_extension": ".py",
   "mimetype": "text/x-python",
   "name": "python",
   "nbconvert_exporter": "python",
   "pygments_lexer": "ipython3",
   "version": "3.8.5"
  }
 },
 "nbformat": 4,
 "nbformat_minor": 4
}
