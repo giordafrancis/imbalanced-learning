{
 "cells": [
  {
   "cell_type": "markdown",
   "metadata": {},
   "source": [
    "\n",
    "## Classification Problem\n",
    "\n",
    "Classification is a predictive modeling problem that involves assigning a class label to each observation.\n",
    "\n",
    "For example, we may collect measurements of a flower and classify the species of flower(label) from the measurements.  The number of classes for a predictive modeling problem is typically fixed when the problem is framed or described, and typically, the number of classes does not change.  We may alternately choose to predict a probability of class membership instead of a crisp class label.  This allows a predictive model to share uncertainty in a prediction across a range of options and allows the user to interpret the result in the context of the problem\n",
    "\n",
    "A classification predictive modeling problem may have two class labels.  This is the simplest type of classification problem and is referred to as two-class classification or binary classification.Alternately, the problem may have more than two classes, such as three, 10, or even hundreds of classes. These types of problems are referred to as multiclass classification problems."
   ]
  },
  {
   "cell_type": "markdown",
   "metadata": {},
   "source": [
    "### Imbalanced Classification problem\n",
    "\n",
    "The number of examples that belong to each class may be referred to as the class distribution.Imbalanced classification refers to a classification predictive modeling problem where the number of examples in the training dataset for each class label is not balanced.  Specifically, where the class distribution is not equal or close to equal, and is instead biased or skewed\n",
    "\n",
    "An imbalance occurs when one or more classes have very low proportions in the training data as compared to the other classes.\n",
    "\n",
    "We  refer  to  these  types  of  problems  as imbalanced  classification instead  of unbalanced classification.  Unbalanced refers to a class distribution that was balanced and is now no longer balanced, whereas imbalanced refers to a class distribution that is inherently not balanced.\n",
    "\n",
    "\n"
   ]
  },
  {
   "cell_type": "markdown",
   "metadata": {},
   "source": [
    "### Causes of Imbalance\n",
    "\n",
    "- Bias in sampling or measurement error\n",
    "- Domain problem\n",
    "\n",
    "There are perhaps two main groups of causes for the imbalance we may want to consider; they are data sampling and properties of the domain.  It is possible that the imbalance in the examples across the classes was caused by the way the examples were collected or sampled from the problem domain.\n",
    "\n",
    "For example, perhaps examples were collected from a narrow geographical region, or slice of time, and the distribution of classes may be quite different or perhaps even collected in a different way.  Errors may have been made when collecting the observations.  One type of error might have been applying the wrong class labels to many examples.  Alternately, the processes or systems from which examples were collected may have been damaged or impaired to cause the imbalance.\n",
    "\n",
    "Often in cases where the imbalance is caused by a sampling bias or measurement error, the imbalance can be corrected by improved sampling methods, and/or correcting the measurement error.  This is because the training dataset is not a fair representation of the problem domain that is being addressed.\n",
    "\n",
    "The  imbalance  might  be  a  property  of  the  problem  domain.   For  example,  the  natural occurrence or presence of one class may dominate other classes.  This may be because the process that generates observations in one class is more expensive in time, cost, computation, or other resources.  As such, it is often infeasible or intractable to simply collect more samples from the domain in order to improve the class distribution. \n",
    "\n",
    "Instead, a model is required to learn the difference between the classes.\n",
    "\n"
   ]
  },
  {
   "cell_type": "markdown",
   "metadata": {},
   "source": [
    "### Challenge of Imbalanced Classification\n",
    "\n",
    "A classification problem maybe a little skewed, such as if there is a slight imbalance.  Alternately, the classification problem may have a severe imbalance where there might be hundreds or thousands of examples in one class and tens of examples in another class for a given training dataset.\n",
    "\n",
    "A slight imbalance (less then 1:4) is often not a concern, and the problem can often be treated like a normal classification predictive modeling problem.  A severe imbalance of the classes can be challenging to model and may require the use of specialized techniques.\n",
    "\n",
    "The class or classes with abundant examples are called the major or majority classes, whereas the class with few examples (and there is typically just one) is called the minor or minority class.\n",
    "\n",
    "When working with an imbalanced classification problem, the minority class is typically of the most interest.  This means that a model’s skill in correctly predicting the class label or probability for the minority class is more important than the majority class or classes.\n",
    "\n",
    "This can represent a challenge due to the lower number of examples, the abundance of examples from the majority class (or classes) can swamp the minority class.  Most machine learning algorithms for classification predictive models are designed and demonstrated on problems that assume an equal distribution of classes.\n",
    "The learning process of most classification algorithms is often biased toward the majority class examples, so that minority ones are not well modeled into the final system.\n",
    "\n",
    "Below is a list of ten examples of problem domains where the class distribution of examples is inherently imbalanced.\n",
    "\n",
    "- Fraud Detection.\n",
    "- Claim Prediction\n",
    "- Default Prediction.\n",
    "- Churn Prediction.\n",
    "- Spam Detection.\n",
    "- Anomaly Detection.\n",
    "- Outlier Detection.\n",
    "\n",
    "Imbalance can be present in any data set or application, and hence, the practitioner should be aware of the implications of modeling this type of data\n",
    "\n",
    "Also notice that many of the domains are described as detection, highlighting the desire to discover the minority class amongst the abundant examples of the majority class. \n",
    "\n",
    "\n",
    "\n",
    "\n",
    "\n",
    "\n",
    "\n",
    "\n",
    "\n",
    "\n",
    "\n",
    "\n",
    "\n",
    "\n"
   ]
  },
  {
   "cell_type": "code",
   "execution_count": null,
   "metadata": {},
   "outputs": [],
   "source": []
  }
 ],
 "metadata": {
  "kernelspec": {
   "display_name": "Python 3",
   "language": "python",
   "name": "python3"
  },
  "language_info": {
   "codemirror_mode": {
    "name": "ipython",
    "version": 3
   },
   "file_extension": ".py",
   "mimetype": "text/x-python",
   "name": "python",
   "nbconvert_exporter": "python",
   "pygments_lexer": "ipython3",
   "version": "3.7.3"
  }
 },
 "nbformat": 4,
 "nbformat_minor": 4
}
