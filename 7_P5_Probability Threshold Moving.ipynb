{
 "cells": [
  {
   "cell_type": "markdown",
   "metadata": {},
   "source": [
    "# Probability Threshold Moving"
   ]
  },
  {
   "cell_type": "markdown",
   "metadata": {},
   "source": [
    "Many machine learning algorithms are capable of predicting a probability or scoring of class membership, and this must be interpreted before it can be mapped to a crisp class label.  This isachieved by using a threshold, such as 0.5, where all values equal or greater than the thresholdare mapped to one class and all other values are mapped to another class.\n",
    "\n",
    "For those classification problems that have a severe class imbalance, the default thresholdcan result in poor performance.  As such, a simple and straightforward approach to improvingthe performance of a classifier that predicts probabilities on an imbalanced classification problemis to tune the threshold used to map probabilities to class labels.\n",
    "\n",
    "In some cases, such as when using ROC Curves and Precision-Recall Curves, the best oroptimal threshold for the classifier can be calculated directly.  In other cases, it is possible touse a grid search to tune the threshold and locate the optimal value.  In this tutorial, you willdiscover how to tune the optimal threshold when converting probabilities to crisp class labelsfor imbalanced classification.\n",
    "\n",
    "\n",
    "  After completing this tutorial, you will know:\n",
    " - The default threshold for interpreting probabilities to class labels is 0.5, and tuning this hyperparameter is called threshold moving.\n",
    " - How to calculate the optimal threshold for the ROC Curve and Precision-Recall Curvedirectly.\n",
    " - How to manually search threshold values for a chosen model and model evaluation metric\n",
    " \n",
    " This tutorial is divided into five parts; they are:1.  \n",
    " \n",
    "1. Converting Probabilities to Class Labels\n",
    "2.  Threshold-Moving for Imbalanced Classification\n",
    "3.  Optimal Threshold for ROC Curve\n",
    "4.  Optimal Threshold for Precision-Recall Curve\n",
    "5.  Optimal Threshold Tuning"
   ]
  },
  {
   "cell_type": "markdown",
   "metadata": {},
   "source": [
    "## Converting Probabilities to Class Labels"
   ]
  },
  {
   "cell_type": "markdown",
   "metadata": {},
   "source": [
    " The decision for converting a predicted probability or scoring into a class label is governed by a parameter referred to as the decision threshold,discrimination threshold, or simply the threshold.  The default value for the threshold is 0.5 for normalized predicted probabilities or scores in the range between 0 or 1.\n",
    " \n",
    " ...   almost  all  classifiers  generate  positive  or  negative  predictions  by  applying  a threshold  to  a  score.   The  choice  of  this  threshold  will  have  an  impact  in  thetrade-offs of positive and negative errors. *Page 53,Learning from Imbalanced Data Sets, 2018.*\n",
    " \n",
    " The problem is that the default threshold may not represent an optimal interpretation of the predicted probabilities.  This might be the case for a number of reasons, such as:\n",
    " \n",
    "- The predicted probabilities are not calibrated, e.g.  those predicted by an SVM or decision tree.\n",
    "- The metric used to train the model is different from the metric used to evaluate a final model.\n",
    "- The class distribution is severely skewed.\n",
    "- The cost of one type of misclassification is more important than another type of misclassification."
   ]
  },
  {
   "cell_type": "markdown",
   "metadata": {},
   "source": [
    "## Threshold-Moving for Imbalanced Classification"
   ]
  },
  {
   "cell_type": "markdown",
   "metadata": {},
   "source": [
    "The bottom line is that when studying problems with imbalanced data, using the classifiers produced by standard machine learning algorithms without adjusting the output threshold may well be a critical mistake.*—Machine Learning from Imbalanced Data Sets 101, 2000.*\n",
    "\n",
    "here are many reasons to choose an alternative to the default decision threshold.  For example, you may use ROC curves to analyze the predicted probabilities of a model and ROCAUC scores to compare and select a model, although you require crisp class labels from your model.  How do you choose the threshold on the ROC Curve that results in the best balance between the true positive rate and the false positive rate?\n",
    "\n",
    "Alternately, you may use precision-recall curves to analyze the predicted probabilities of a model, precision-recall AUC to compare and select models, and require crisp class labels as predictions.  How do you choose the threshold on the Precision-Recall Curve that results in the best balance between precision and recall?  \n",
    "\n",
    "You may use a probability-based metric to train, evaluate, and compare models like log loss (cross-entropy) but require crisp class labels to be predicted.  How do you choose the optimal threshold from predicted probabilities more generally?\n",
    "\n",
    "Finally,  you  may  have  different  costs  associated  with  false  positive  and  false  negative misclassification, a so-called cost matrix, but wish to use and evaluate cost-insensitive models and later evaluate their predictions use a cost-sensitive measure. How do you choose a threshold that finds the best trade-off for predictions using the cost matrix?\n",
    "\n",
    "\n",
    "Popular way of training a cost-sensitive classifier without a known cost matrix is to put emphasis on modifying the classification outputs when predictions are being made on new data.  This is usually done by setting a threshold on the positive class, below which the negative one is being predicted.  The value of this threshold is optimized using a validation set and thus the cost matrix can be learned from training data. *— Page 67,Learning from Imbalanced Data Sets, 2018.*\n",
    "\n",
    "\n",
    "The process involves first fitting the model on a training dataset and making predictions on a test dataset.  The predictions are in the form of normalized probabilities, or scores thatare transformed into normalized probabilities.  Different threshold values are then tried and the resulting crisp labels are evaluated using a chosen evaluation metric.  The threshold that achieves the best evaluation metric is then adopted for the model when making predictions on new data in the future.  We can summarize this procedure below.\n",
    "\n",
    "1.  Fit Model on the Training Dataset.\n",
    "2.  Predict Probabilities on the Test Dataset.\n",
    "3.  For each threshold in Thresholds:\n",
    "        a. Convert probabilities to Class Labels using the threshold.\n",
    "        b. Evaluate Class Labels.\n",
    "        c. If Score is Better than Best Score.\n",
    "            - Adopt Threshold.\n",
    "4.  Use Adopted Threshold When Making Class Predictions on New Data."
   ]
  },
  {
   "cell_type": "markdown",
   "metadata": {},
   "source": [
    "##  Optimal Threshold for ROC Curve"
   ]
  },
  {
   "cell_type": "markdown",
   "metadata": {},
   "source": [
    "A ROC curve is a diagnostic plot that evaluates a set of probability predictions made by amodel on a test dataset.  A set of different thresholds are used to interpret the true positive rateand the false positive rate of the predictions on the positive (minority) class, and the scores areplotted in a line of increasing thresholds to create a curve.  The false-positive rate is plotted onthe x-axis and the true positive rate is plotted on the y-axis and the plot is referred to as theReceiver Operating Characteristic curve, or ROC curve.  A diagonal line on the plot from thebottom-left to top-right indicates thecurvefor a no-skill classifier (predicts the majority classin all cases), and a point in the top left of the plot indicates a model with perfect skill.The curve is useful to understand the trade-off in the true-positive rate and false-positiverate for different thresholds.  The area under the ROC Curve, so-called ROC AUC, providesa single number to summarize the performance of a model in terms of its ROC Curve with avalue between 0.5 (no-skill) and 1.0 (perfect skill).  The ROC Curve is a useful diagnostic toolfor understanding the trade-off for different thresholds and the ROC AUC provides a usefulnumber for comparing models based on their general capabilities\n",
    "\n",
    "Thankfully, there are principled ways of locating this point.  First, let’s fit a model andcalculate a ROC Curve. "
   ]
  },
  {
   "cell_type": "code",
   "execution_count": 27,
   "metadata": {},
   "outputs": [
    {
     "data": {
      "image/png": "[encoded data removed]",
      "text/plain": [
       "<Figure size 432x288 with 1 Axes>"
      ]
     },
     "metadata": {},
     "output_type": "display_data"
    }
   ],
   "source": [
    "from sklearn.datasets import make_classification\n",
    "from sklearn.linear_model import LogisticRegression\n",
    "from sklearn.model_selection import train_test_split\n",
    "from sklearn.metrics import roc_curve\n",
    "from matplotlib import pyplot\n",
    "import seaborn as sns\n",
    "sns.set()\n",
    "\n",
    "# generate dataset\n",
    "X, y = make_classification(n_samples=10_000, n_features=2, n_redundant=0,\n",
    "                           n_clusters_per_class=1, weights=[0.99], flip_y=0,\n",
    "                           random_state=4)\n",
    "\n",
    "# split into train/test sets\n",
    "X_train, X_test, y_train, y_test = train_test_split(X, y, test_size=0.5,\n",
    "                                                    random_state=2, stratify=y)\n",
    "\n",
    "model = LogisticRegression(solver='lbfgs')\n",
    "model.fit(X_train, y_train)\n",
    "yhat = model.predict_proba(X_test)  # predict prob\n",
    "yhat = yhat[:, 1]  # pos prob only\n",
    "fpr, tpr, thresholds = roc_curve(y_true=y_test, y_score=yhat)\n",
    "# plot the roc curve for the model\n",
    "pyplot.plot([0,1], [0,1], linestyle='--', label='No Skill')\n",
    "pyplot.plot(fpr, tpr, marker='.', label='Logistic')\n",
    "pyplot.xlabel('False Positive rate')\n",
    "pyplot.ylabel('True Positive rate')\n",
    "pyplot.legend();"
   ]
  },
  {
   "cell_type": "markdown",
   "metadata": {},
   "source": [
    "Running the example fits a logistic regression model on the training dataset then evaluates it using a range of thresholds on the test set, creating the ROC Curve.  We can see that there are a number of points or thresholds close to the top-left of the plot.  Which is the threshold that is optimal?"
   ]
  },
  {
   "cell_type": "markdown",
   "metadata": {},
   "source": [
    "### from pag 251 in book"
   ]
  },
  {
   "cell_type": "code",
   "execution_count": null,
   "metadata": {},
   "outputs": [],
   "source": []
  }
 ],
 "metadata": {
  "kernelspec": {
   "display_name": "Python 3",
   "language": "python",
   "name": "python3"
  },
  "language_info": {
   "codemirror_mode": {
    "name": "ipython",
    "version": 3
   },
   "file_extension": ".py",
   "mimetype": "text/x-python",
   "name": "python",
   "nbconvert_exporter": "python",
   "pygments_lexer": "ipython3",
   "version": "3.8.5"
  },
  "toc-autonumbering": false,
  "toc-showcode": false,
  "toc-showmarkdowntxt": false,
  "toc-showtags": false
 },
 "nbformat": 4,
 "nbformat_minor": 4
}
